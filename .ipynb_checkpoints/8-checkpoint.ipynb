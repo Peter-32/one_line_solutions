{
 "cells": [
  {
   "cell_type": "code",
   "execution_count": 44,
   "metadata": {},
   "outputs": [
    {
     "name": "stdout",
     "output_type": "stream",
     "text": [
      "aaab\n",
      "0\n",
      "2\n",
      "3\n"
     ]
    }
   ],
   "source": [
    "x, n = input(), int(input().strip())\n",
    "x = [ord(c)-96 for c in x]\n",
    "nums, last_num, combo = {}, None, 0\n",
    "for num in x:\n",
    "    if num == last_num:\n",
    "        combo += num\n",
    "        nums[combo] = True\n",
    "    else:\n",
    "        combo = num\n",
    "        nums[num] = True\n",
    "    last_num = num\n",
    "for _ in range(n): \n",
    "    print(\"Yes\" if nums.get(int(input().strip()), 0) else \"No\")"
   ]
  },
  {
   "cell_type": "code",
   "execution_count": null,
   "metadata": {},
   "outputs": [],
   "source": []
  }
 ],
 "metadata": {
  "kernelspec": {
   "display_name": "commons",
   "language": "python",
   "name": "commons"
  },
  "language_info": {
   "codemirror_mode": {
    "name": "ipython",
    "version": 3
   },
   "file_extension": ".py",
   "mimetype": "text/x-python",
   "name": "python",
   "nbconvert_exporter": "python",
   "pygments_lexer": "ipython3",
   "version": "3.6.5"
  },
  "toc": {
   "base_numbering": 1,
   "nav_menu": {},
   "number_sections": true,
   "sideBar": true,
   "skip_h1_title": false,
   "title_cell": "Table of Contents",
   "title_sidebar": "Contents",
   "toc_cell": false,
   "toc_position": {},
   "toc_section_display": true,
   "toc_window_display": false
  }
 },
 "nbformat": 4,
 "nbformat_minor": 2
}
